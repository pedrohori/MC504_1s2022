{
  "nbformat": 4,
  "nbformat_minor": 0,
  "metadata": {
    "colab": {
      "provenance": [],
      "collapsed_sections": [
        "-_UFvuX34I_J",
        "27XBS2TD4Efn",
        "eDkSHG5W35jM",
        "l79oWybeWdRb"
      ],
      "include_colab_link": true
    },
    "kernelspec": {
      "name": "python3",
      "display_name": "Python 3"
    },
    "language_info": {
      "name": "python"
    }
  },
  "cells": [
    {
      "cell_type": "markdown",
      "metadata": {
        "id": "view-in-github",
        "colab_type": "text"
      },
      "source": [
        "<a href=\"https://colab.research.google.com/github/pedrohori/MC504_1s2022/blob/main/Bix_tecnologia.ipynb\" target=\"_parent\"><img src=\"https://colab.research.google.com/assets/colab-badge.svg\" alt=\"Open In Colab\"/></a>"
      ]
    },
    {
      "cell_type": "code",
      "execution_count": 1,
      "metadata": {
        "id": "tf4SiO4Tfh1F"
      },
      "outputs": [],
      "source": [
        "import glob\n",
        "import pandas as pd\n",
        "import numpy as np\n",
        "import scipy\n",
        "import math\n",
        "\n",
        "\n",
        "import sklearn\n",
        "import joblib\n",
        "from sklearn.preprocessing import StandardScaler\n",
        "import seaborn as sns\n",
        "sns.set(color_codes=True)\n",
        "import matplotlib.pyplot as plt\n",
        "%matplotlib inline\n",
        "\n",
        "from numpy.random import seed\n",
        "import tensorflow as tf\n",
        "import logging\n",
        "logging.getLogger('tensorflow').setLevel(logging.ERROR)\n",
        "\n",
        "\n",
        "from keras.layers import Input, Dropout, Dense, LSTM, TimeDistributed, RepeatVector\n",
        "from keras.models import Model\n",
        "from keras import regularizers\n",
        "\n",
        "import joblib\n",
        "\n",
        "import random\n",
        "random.seed(12)  # Set the random seed"
      ]
    },
    {
      "cell_type": "markdown",
      "source": [
        "#Download dos dados"
      ],
      "metadata": {
        "id": "-_UFvuX34I_J"
      }
    },
    {
      "cell_type": "code",
      "source": [
        "df = pd.read_csv('/content/air_system_previous_years.csv')\n",
        "df.head()"
      ],
      "metadata": {
        "colab": {
          "base_uri": "https://localhost:8080/",
          "height": 256
        },
        "id": "Hy7pdWZ0f5dg",
        "outputId": "4191d4ec-c2de-424b-85b6-0d722b254695"
      },
      "execution_count": 2,
      "outputs": [
        {
          "output_type": "execute_result",
          "data": {
            "text/plain": [
              "  class  aa_000 ab_000      ac_000 ad_000 ae_000 af_000 ag_000 ag_001 ag_002  \\\n",
              "0   neg   76698     na  2130706438    280      0      0      0      0      0   \n",
              "1   neg   33058     na           0     na      0      0      0      0      0   \n",
              "2   neg   41040     na         228    100      0      0      0      0      0   \n",
              "3   neg      12      0          70     66      0     10      0      0      0   \n",
              "4   neg   60874     na        1368    458      0      0      0      0      0   \n",
              "\n",
              "   ...   ee_002  ee_003  ee_004  ee_005  ee_006  ee_007  ee_008 ee_009 ef_000  \\\n",
              "0  ...  1240520  493384  721044  469792  339156  157956   73224      0      0   \n",
              "1  ...   421400  178064  293306  245416  133654   81140   97576   1500      0   \n",
              "2  ...   277378  159812  423992  409564  320746  158022   95128    514      0   \n",
              "3  ...      240      46      58      44      10       0       0      0      4   \n",
              "4  ...   622012  229790  405298  347188  286954  311560  433954   1218      0   \n",
              "\n",
              "  eg_000  \n",
              "0      0  \n",
              "1      0  \n",
              "2      0  \n",
              "3     32  \n",
              "4      0  \n",
              "\n",
              "[5 rows x 171 columns]"
            ],
            "text/html": [
              "\n",
              "  <div id=\"df-c1b1c4ad-54ad-4a8f-8e36-b6e0415698e6\" class=\"colab-df-container\">\n",
              "    <div>\n",
              "<style scoped>\n",
              "    .dataframe tbody tr th:only-of-type {\n",
              "        vertical-align: middle;\n",
              "    }\n",
              "\n",
              "    .dataframe tbody tr th {\n",
              "        vertical-align: top;\n",
              "    }\n",
              "\n",
              "    .dataframe thead th {\n",
              "        text-align: right;\n",
              "    }\n",
              "</style>\n",
              "<table border=\"1\" class=\"dataframe\">\n",
              "  <thead>\n",
              "    <tr style=\"text-align: right;\">\n",
              "      <th></th>\n",
              "      <th>class</th>\n",
              "      <th>aa_000</th>\n",
              "      <th>ab_000</th>\n",
              "      <th>ac_000</th>\n",
              "      <th>ad_000</th>\n",
              "      <th>ae_000</th>\n",
              "      <th>af_000</th>\n",
              "      <th>ag_000</th>\n",
              "      <th>ag_001</th>\n",
              "      <th>ag_002</th>\n",
              "      <th>...</th>\n",
              "      <th>ee_002</th>\n",
              "      <th>ee_003</th>\n",
              "      <th>ee_004</th>\n",
              "      <th>ee_005</th>\n",
              "      <th>ee_006</th>\n",
              "      <th>ee_007</th>\n",
              "      <th>ee_008</th>\n",
              "      <th>ee_009</th>\n",
              "      <th>ef_000</th>\n",
              "      <th>eg_000</th>\n",
              "    </tr>\n",
              "  </thead>\n",
              "  <tbody>\n",
              "    <tr>\n",
              "      <th>0</th>\n",
              "      <td>neg</td>\n",
              "      <td>76698</td>\n",
              "      <td>na</td>\n",
              "      <td>2130706438</td>\n",
              "      <td>280</td>\n",
              "      <td>0</td>\n",
              "      <td>0</td>\n",
              "      <td>0</td>\n",
              "      <td>0</td>\n",
              "      <td>0</td>\n",
              "      <td>...</td>\n",
              "      <td>1240520</td>\n",
              "      <td>493384</td>\n",
              "      <td>721044</td>\n",
              "      <td>469792</td>\n",
              "      <td>339156</td>\n",
              "      <td>157956</td>\n",
              "      <td>73224</td>\n",
              "      <td>0</td>\n",
              "      <td>0</td>\n",
              "      <td>0</td>\n",
              "    </tr>\n",
              "    <tr>\n",
              "      <th>1</th>\n",
              "      <td>neg</td>\n",
              "      <td>33058</td>\n",
              "      <td>na</td>\n",
              "      <td>0</td>\n",
              "      <td>na</td>\n",
              "      <td>0</td>\n",
              "      <td>0</td>\n",
              "      <td>0</td>\n",
              "      <td>0</td>\n",
              "      <td>0</td>\n",
              "      <td>...</td>\n",
              "      <td>421400</td>\n",
              "      <td>178064</td>\n",
              "      <td>293306</td>\n",
              "      <td>245416</td>\n",
              "      <td>133654</td>\n",
              "      <td>81140</td>\n",
              "      <td>97576</td>\n",
              "      <td>1500</td>\n",
              "      <td>0</td>\n",
              "      <td>0</td>\n",
              "    </tr>\n",
              "    <tr>\n",
              "      <th>2</th>\n",
              "      <td>neg</td>\n",
              "      <td>41040</td>\n",
              "      <td>na</td>\n",
              "      <td>228</td>\n",
              "      <td>100</td>\n",
              "      <td>0</td>\n",
              "      <td>0</td>\n",
              "      <td>0</td>\n",
              "      <td>0</td>\n",
              "      <td>0</td>\n",
              "      <td>...</td>\n",
              "      <td>277378</td>\n",
              "      <td>159812</td>\n",
              "      <td>423992</td>\n",
              "      <td>409564</td>\n",
              "      <td>320746</td>\n",
              "      <td>158022</td>\n",
              "      <td>95128</td>\n",
              "      <td>514</td>\n",
              "      <td>0</td>\n",
              "      <td>0</td>\n",
              "    </tr>\n",
              "    <tr>\n",
              "      <th>3</th>\n",
              "      <td>neg</td>\n",
              "      <td>12</td>\n",
              "      <td>0</td>\n",
              "      <td>70</td>\n",
              "      <td>66</td>\n",
              "      <td>0</td>\n",
              "      <td>10</td>\n",
              "      <td>0</td>\n",
              "      <td>0</td>\n",
              "      <td>0</td>\n",
              "      <td>...</td>\n",
              "      <td>240</td>\n",
              "      <td>46</td>\n",
              "      <td>58</td>\n",
              "      <td>44</td>\n",
              "      <td>10</td>\n",
              "      <td>0</td>\n",
              "      <td>0</td>\n",
              "      <td>0</td>\n",
              "      <td>4</td>\n",
              "      <td>32</td>\n",
              "    </tr>\n",
              "    <tr>\n",
              "      <th>4</th>\n",
              "      <td>neg</td>\n",
              "      <td>60874</td>\n",
              "      <td>na</td>\n",
              "      <td>1368</td>\n",
              "      <td>458</td>\n",
              "      <td>0</td>\n",
              "      <td>0</td>\n",
              "      <td>0</td>\n",
              "      <td>0</td>\n",
              "      <td>0</td>\n",
              "      <td>...</td>\n",
              "      <td>622012</td>\n",
              "      <td>229790</td>\n",
              "      <td>405298</td>\n",
              "      <td>347188</td>\n",
              "      <td>286954</td>\n",
              "      <td>311560</td>\n",
              "      <td>433954</td>\n",
              "      <td>1218</td>\n",
              "      <td>0</td>\n",
              "      <td>0</td>\n",
              "    </tr>\n",
              "  </tbody>\n",
              "</table>\n",
              "<p>5 rows × 171 columns</p>\n",
              "</div>\n",
              "    <div class=\"colab-df-buttons\">\n",
              "\n",
              "  <div class=\"colab-df-container\">\n",
              "    <button class=\"colab-df-convert\" onclick=\"convertToInteractive('df-c1b1c4ad-54ad-4a8f-8e36-b6e0415698e6')\"\n",
              "            title=\"Convert this dataframe to an interactive table.\"\n",
              "            style=\"display:none;\">\n",
              "\n",
              "  <svg xmlns=\"http://www.w3.org/2000/svg\" height=\"24px\" viewBox=\"0 -960 960 960\">\n",
              "    <path d=\"M120-120v-720h720v720H120Zm60-500h600v-160H180v160Zm220 220h160v-160H400v160Zm0 220h160v-160H400v160ZM180-400h160v-160H180v160Zm440 0h160v-160H620v160ZM180-180h160v-160H180v160Zm440 0h160v-160H620v160Z\"/>\n",
              "  </svg>\n",
              "    </button>\n",
              "\n",
              "  <style>\n",
              "    .colab-df-container {\n",
              "      display:flex;\n",
              "      gap: 12px;\n",
              "    }\n",
              "\n",
              "    .colab-df-convert {\n",
              "      background-color: #E8F0FE;\n",
              "      border: none;\n",
              "      border-radius: 50%;\n",
              "      cursor: pointer;\n",
              "      display: none;\n",
              "      fill: #1967D2;\n",
              "      height: 32px;\n",
              "      padding: 0 0 0 0;\n",
              "      width: 32px;\n",
              "    }\n",
              "\n",
              "    .colab-df-convert:hover {\n",
              "      background-color: #E2EBFA;\n",
              "      box-shadow: 0px 1px 2px rgba(60, 64, 67, 0.3), 0px 1px 3px 1px rgba(60, 64, 67, 0.15);\n",
              "      fill: #174EA6;\n",
              "    }\n",
              "\n",
              "    .colab-df-buttons div {\n",
              "      margin-bottom: 4px;\n",
              "    }\n",
              "\n",
              "    [theme=dark] .colab-df-convert {\n",
              "      background-color: #3B4455;\n",
              "      fill: #D2E3FC;\n",
              "    }\n",
              "\n",
              "    [theme=dark] .colab-df-convert:hover {\n",
              "      background-color: #434B5C;\n",
              "      box-shadow: 0px 1px 3px 1px rgba(0, 0, 0, 0.15);\n",
              "      filter: drop-shadow(0px 1px 2px rgba(0, 0, 0, 0.3));\n",
              "      fill: #FFFFFF;\n",
              "    }\n",
              "  </style>\n",
              "\n",
              "    <script>\n",
              "      const buttonEl =\n",
              "        document.querySelector('#df-c1b1c4ad-54ad-4a8f-8e36-b6e0415698e6 button.colab-df-convert');\n",
              "      buttonEl.style.display =\n",
              "        google.colab.kernel.accessAllowed ? 'block' : 'none';\n",
              "\n",
              "      async function convertToInteractive(key) {\n",
              "        const element = document.querySelector('#df-c1b1c4ad-54ad-4a8f-8e36-b6e0415698e6');\n",
              "        const dataTable =\n",
              "          await google.colab.kernel.invokeFunction('convertToInteractive',\n",
              "                                                    [key], {});\n",
              "        if (!dataTable) return;\n",
              "\n",
              "        const docLinkHtml = 'Like what you see? Visit the ' +\n",
              "          '<a target=\"_blank\" href=https://colab.research.google.com/notebooks/data_table.ipynb>data table notebook</a>'\n",
              "          + ' to learn more about interactive tables.';\n",
              "        element.innerHTML = '';\n",
              "        dataTable['output_type'] = 'display_data';\n",
              "        await google.colab.output.renderOutput(dataTable, element);\n",
              "        const docLink = document.createElement('div');\n",
              "        docLink.innerHTML = docLinkHtml;\n",
              "        element.appendChild(docLink);\n",
              "      }\n",
              "    </script>\n",
              "  </div>\n",
              "\n",
              "\n",
              "<div id=\"df-2d37b5ee-0ace-44af-93a3-ac94c4c3ec50\">\n",
              "  <button class=\"colab-df-quickchart\" onclick=\"quickchart('df-2d37b5ee-0ace-44af-93a3-ac94c4c3ec50')\"\n",
              "            title=\"Suggest charts\"\n",
              "            style=\"display:none;\">\n",
              "\n",
              "<svg xmlns=\"http://www.w3.org/2000/svg\" height=\"24px\"viewBox=\"0 0 24 24\"\n",
              "     width=\"24px\">\n",
              "    <g>\n",
              "        <path d=\"M19 3H5c-1.1 0-2 .9-2 2v14c0 1.1.9 2 2 2h14c1.1 0 2-.9 2-2V5c0-1.1-.9-2-2-2zM9 17H7v-7h2v7zm4 0h-2V7h2v10zm4 0h-2v-4h2v4z\"/>\n",
              "    </g>\n",
              "</svg>\n",
              "  </button>\n",
              "\n",
              "<style>\n",
              "  .colab-df-quickchart {\n",
              "      --bg-color: #E8F0FE;\n",
              "      --fill-color: #1967D2;\n",
              "      --hover-bg-color: #E2EBFA;\n",
              "      --hover-fill-color: #174EA6;\n",
              "      --disabled-fill-color: #AAA;\n",
              "      --disabled-bg-color: #DDD;\n",
              "  }\n",
              "\n",
              "  [theme=dark] .colab-df-quickchart {\n",
              "      --bg-color: #3B4455;\n",
              "      --fill-color: #D2E3FC;\n",
              "      --hover-bg-color: #434B5C;\n",
              "      --hover-fill-color: #FFFFFF;\n",
              "      --disabled-bg-color: #3B4455;\n",
              "      --disabled-fill-color: #666;\n",
              "  }\n",
              "\n",
              "  .colab-df-quickchart {\n",
              "    background-color: var(--bg-color);\n",
              "    border: none;\n",
              "    border-radius: 50%;\n",
              "    cursor: pointer;\n",
              "    display: none;\n",
              "    fill: var(--fill-color);\n",
              "    height: 32px;\n",
              "    padding: 0;\n",
              "    width: 32px;\n",
              "  }\n",
              "\n",
              "  .colab-df-quickchart:hover {\n",
              "    background-color: var(--hover-bg-color);\n",
              "    box-shadow: 0 1px 2px rgba(60, 64, 67, 0.3), 0 1px 3px 1px rgba(60, 64, 67, 0.15);\n",
              "    fill: var(--button-hover-fill-color);\n",
              "  }\n",
              "\n",
              "  .colab-df-quickchart-complete:disabled,\n",
              "  .colab-df-quickchart-complete:disabled:hover {\n",
              "    background-color: var(--disabled-bg-color);\n",
              "    fill: var(--disabled-fill-color);\n",
              "    box-shadow: none;\n",
              "  }\n",
              "\n",
              "  .colab-df-spinner {\n",
              "    border: 2px solid var(--fill-color);\n",
              "    border-color: transparent;\n",
              "    border-bottom-color: var(--fill-color);\n",
              "    animation:\n",
              "      spin 1s steps(1) infinite;\n",
              "  }\n",
              "\n",
              "  @keyframes spin {\n",
              "    0% {\n",
              "      border-color: transparent;\n",
              "      border-bottom-color: var(--fill-color);\n",
              "      border-left-color: var(--fill-color);\n",
              "    }\n",
              "    20% {\n",
              "      border-color: transparent;\n",
              "      border-left-color: var(--fill-color);\n",
              "      border-top-color: var(--fill-color);\n",
              "    }\n",
              "    30% {\n",
              "      border-color: transparent;\n",
              "      border-left-color: var(--fill-color);\n",
              "      border-top-color: var(--fill-color);\n",
              "      border-right-color: var(--fill-color);\n",
              "    }\n",
              "    40% {\n",
              "      border-color: transparent;\n",
              "      border-right-color: var(--fill-color);\n",
              "      border-top-color: var(--fill-color);\n",
              "    }\n",
              "    60% {\n",
              "      border-color: transparent;\n",
              "      border-right-color: var(--fill-color);\n",
              "    }\n",
              "    80% {\n",
              "      border-color: transparent;\n",
              "      border-right-color: var(--fill-color);\n",
              "      border-bottom-color: var(--fill-color);\n",
              "    }\n",
              "    90% {\n",
              "      border-color: transparent;\n",
              "      border-bottom-color: var(--fill-color);\n",
              "    }\n",
              "  }\n",
              "</style>\n",
              "\n",
              "  <script>\n",
              "    async function quickchart(key) {\n",
              "      const quickchartButtonEl =\n",
              "        document.querySelector('#' + key + ' button');\n",
              "      quickchartButtonEl.disabled = true;  // To prevent multiple clicks.\n",
              "      quickchartButtonEl.classList.add('colab-df-spinner');\n",
              "      try {\n",
              "        const charts = await google.colab.kernel.invokeFunction(\n",
              "            'suggestCharts', [key], {});\n",
              "      } catch (error) {\n",
              "        console.error('Error during call to suggestCharts:', error);\n",
              "      }\n",
              "      quickchartButtonEl.classList.remove('colab-df-spinner');\n",
              "      quickchartButtonEl.classList.add('colab-df-quickchart-complete');\n",
              "    }\n",
              "    (() => {\n",
              "      let quickchartButtonEl =\n",
              "        document.querySelector('#df-2d37b5ee-0ace-44af-93a3-ac94c4c3ec50 button');\n",
              "      quickchartButtonEl.style.display =\n",
              "        google.colab.kernel.accessAllowed ? 'block' : 'none';\n",
              "    })();\n",
              "  </script>\n",
              "</div>\n",
              "\n",
              "    </div>\n",
              "  </div>\n"
            ],
            "application/vnd.google.colaboratory.intrinsic+json": {
              "type": "dataframe",
              "variable_name": "df"
            }
          },
          "metadata": {},
          "execution_count": 2
        }
      ]
    },
    {
      "cell_type": "code",
      "source": [
        "print(df.info())"
      ],
      "metadata": {
        "id": "pWZTjVNfK0HB",
        "colab": {
          "base_uri": "https://localhost:8080/"
        },
        "outputId": "da79eeb4-21e0-4796-f1e1-023791308579"
      },
      "execution_count": 3,
      "outputs": [
        {
          "output_type": "stream",
          "name": "stdout",
          "text": [
            "<class 'pandas.core.frame.DataFrame'>\n",
            "RangeIndex: 60000 entries, 0 to 59999\n",
            "Columns: 171 entries, class to eg_000\n",
            "dtypes: int64(1), object(170)\n",
            "memory usage: 78.3+ MB\n",
            "None\n"
          ]
        }
      ]
    },
    {
      "cell_type": "code",
      "source": [
        "df_present = pd.read_csv('/content/air_system_present_year.csv')\n",
        "df_present.head()"
      ],
      "metadata": {
        "id": "DaF_Tjo6KgIY",
        "colab": {
          "base_uri": "https://localhost:8080/",
          "height": 256
        },
        "outputId": "b0665e73-5b00-4308-ac66-6bd98d975a33"
      },
      "execution_count": 4,
      "outputs": [
        {
          "output_type": "execute_result",
          "data": {
            "text/plain": [
              "  class  aa_000 ab_000 ac_000 ad_000 ae_000 af_000 ag_000 ag_001 ag_002  ...  \\\n",
              "0   neg      60      0     20     12      0      0      0      0      0  ...   \n",
              "1   neg      82      0     68     40      0      0      0      0      0  ...   \n",
              "2   neg   66002      2    212    112      0      0      0      0      0  ...   \n",
              "3   neg   59816     na   1010    936      0      0      0      0      0  ...   \n",
              "4   neg    1814     na    156    140      0      0      0      0      0  ...   \n",
              "\n",
              "   ee_002  ee_003  ee_004  ee_005   ee_006  ee_007  ee_008 ee_009 ef_000  \\\n",
              "0    1098     138     412     654       78      88       0      0      0   \n",
              "1    1068     276    1620     116       86     462       0      0      0   \n",
              "2  495076  380368  440134  269556  1315022  153680     516      0      0   \n",
              "3  540820  243270  483302  485332   431376  210074  281662   3232      0   \n",
              "4    7646    4144   18466   49782     3176     482      76      0      0   \n",
              "\n",
              "  eg_000  \n",
              "0      0  \n",
              "1      0  \n",
              "2      0  \n",
              "3      0  \n",
              "4      0  \n",
              "\n",
              "[5 rows x 171 columns]"
            ],
            "text/html": [
              "\n",
              "  <div id=\"df-772f7747-0d26-40bd-a12f-07a76cb4e3bc\" class=\"colab-df-container\">\n",
              "    <div>\n",
              "<style scoped>\n",
              "    .dataframe tbody tr th:only-of-type {\n",
              "        vertical-align: middle;\n",
              "    }\n",
              "\n",
              "    .dataframe tbody tr th {\n",
              "        vertical-align: top;\n",
              "    }\n",
              "\n",
              "    .dataframe thead th {\n",
              "        text-align: right;\n",
              "    }\n",
              "</style>\n",
              "<table border=\"1\" class=\"dataframe\">\n",
              "  <thead>\n",
              "    <tr style=\"text-align: right;\">\n",
              "      <th></th>\n",
              "      <th>class</th>\n",
              "      <th>aa_000</th>\n",
              "      <th>ab_000</th>\n",
              "      <th>ac_000</th>\n",
              "      <th>ad_000</th>\n",
              "      <th>ae_000</th>\n",
              "      <th>af_000</th>\n",
              "      <th>ag_000</th>\n",
              "      <th>ag_001</th>\n",
              "      <th>ag_002</th>\n",
              "      <th>...</th>\n",
              "      <th>ee_002</th>\n",
              "      <th>ee_003</th>\n",
              "      <th>ee_004</th>\n",
              "      <th>ee_005</th>\n",
              "      <th>ee_006</th>\n",
              "      <th>ee_007</th>\n",
              "      <th>ee_008</th>\n",
              "      <th>ee_009</th>\n",
              "      <th>ef_000</th>\n",
              "      <th>eg_000</th>\n",
              "    </tr>\n",
              "  </thead>\n",
              "  <tbody>\n",
              "    <tr>\n",
              "      <th>0</th>\n",
              "      <td>neg</td>\n",
              "      <td>60</td>\n",
              "      <td>0</td>\n",
              "      <td>20</td>\n",
              "      <td>12</td>\n",
              "      <td>0</td>\n",
              "      <td>0</td>\n",
              "      <td>0</td>\n",
              "      <td>0</td>\n",
              "      <td>0</td>\n",
              "      <td>...</td>\n",
              "      <td>1098</td>\n",
              "      <td>138</td>\n",
              "      <td>412</td>\n",
              "      <td>654</td>\n",
              "      <td>78</td>\n",
              "      <td>88</td>\n",
              "      <td>0</td>\n",
              "      <td>0</td>\n",
              "      <td>0</td>\n",
              "      <td>0</td>\n",
              "    </tr>\n",
              "    <tr>\n",
              "      <th>1</th>\n",
              "      <td>neg</td>\n",
              "      <td>82</td>\n",
              "      <td>0</td>\n",
              "      <td>68</td>\n",
              "      <td>40</td>\n",
              "      <td>0</td>\n",
              "      <td>0</td>\n",
              "      <td>0</td>\n",
              "      <td>0</td>\n",
              "      <td>0</td>\n",
              "      <td>...</td>\n",
              "      <td>1068</td>\n",
              "      <td>276</td>\n",
              "      <td>1620</td>\n",
              "      <td>116</td>\n",
              "      <td>86</td>\n",
              "      <td>462</td>\n",
              "      <td>0</td>\n",
              "      <td>0</td>\n",
              "      <td>0</td>\n",
              "      <td>0</td>\n",
              "    </tr>\n",
              "    <tr>\n",
              "      <th>2</th>\n",
              "      <td>neg</td>\n",
              "      <td>66002</td>\n",
              "      <td>2</td>\n",
              "      <td>212</td>\n",
              "      <td>112</td>\n",
              "      <td>0</td>\n",
              "      <td>0</td>\n",
              "      <td>0</td>\n",
              "      <td>0</td>\n",
              "      <td>0</td>\n",
              "      <td>...</td>\n",
              "      <td>495076</td>\n",
              "      <td>380368</td>\n",
              "      <td>440134</td>\n",
              "      <td>269556</td>\n",
              "      <td>1315022</td>\n",
              "      <td>153680</td>\n",
              "      <td>516</td>\n",
              "      <td>0</td>\n",
              "      <td>0</td>\n",
              "      <td>0</td>\n",
              "    </tr>\n",
              "    <tr>\n",
              "      <th>3</th>\n",
              "      <td>neg</td>\n",
              "      <td>59816</td>\n",
              "      <td>na</td>\n",
              "      <td>1010</td>\n",
              "      <td>936</td>\n",
              "      <td>0</td>\n",
              "      <td>0</td>\n",
              "      <td>0</td>\n",
              "      <td>0</td>\n",
              "      <td>0</td>\n",
              "      <td>...</td>\n",
              "      <td>540820</td>\n",
              "      <td>243270</td>\n",
              "      <td>483302</td>\n",
              "      <td>485332</td>\n",
              "      <td>431376</td>\n",
              "      <td>210074</td>\n",
              "      <td>281662</td>\n",
              "      <td>3232</td>\n",
              "      <td>0</td>\n",
              "      <td>0</td>\n",
              "    </tr>\n",
              "    <tr>\n",
              "      <th>4</th>\n",
              "      <td>neg</td>\n",
              "      <td>1814</td>\n",
              "      <td>na</td>\n",
              "      <td>156</td>\n",
              "      <td>140</td>\n",
              "      <td>0</td>\n",
              "      <td>0</td>\n",
              "      <td>0</td>\n",
              "      <td>0</td>\n",
              "      <td>0</td>\n",
              "      <td>...</td>\n",
              "      <td>7646</td>\n",
              "      <td>4144</td>\n",
              "      <td>18466</td>\n",
              "      <td>49782</td>\n",
              "      <td>3176</td>\n",
              "      <td>482</td>\n",
              "      <td>76</td>\n",
              "      <td>0</td>\n",
              "      <td>0</td>\n",
              "      <td>0</td>\n",
              "    </tr>\n",
              "  </tbody>\n",
              "</table>\n",
              "<p>5 rows × 171 columns</p>\n",
              "</div>\n",
              "    <div class=\"colab-df-buttons\">\n",
              "\n",
              "  <div class=\"colab-df-container\">\n",
              "    <button class=\"colab-df-convert\" onclick=\"convertToInteractive('df-772f7747-0d26-40bd-a12f-07a76cb4e3bc')\"\n",
              "            title=\"Convert this dataframe to an interactive table.\"\n",
              "            style=\"display:none;\">\n",
              "\n",
              "  <svg xmlns=\"http://www.w3.org/2000/svg\" height=\"24px\" viewBox=\"0 -960 960 960\">\n",
              "    <path d=\"M120-120v-720h720v720H120Zm60-500h600v-160H180v160Zm220 220h160v-160H400v160Zm0 220h160v-160H400v160ZM180-400h160v-160H180v160Zm440 0h160v-160H620v160ZM180-180h160v-160H180v160Zm440 0h160v-160H620v160Z\"/>\n",
              "  </svg>\n",
              "    </button>\n",
              "\n",
              "  <style>\n",
              "    .colab-df-container {\n",
              "      display:flex;\n",
              "      gap: 12px;\n",
              "    }\n",
              "\n",
              "    .colab-df-convert {\n",
              "      background-color: #E8F0FE;\n",
              "      border: none;\n",
              "      border-radius: 50%;\n",
              "      cursor: pointer;\n",
              "      display: none;\n",
              "      fill: #1967D2;\n",
              "      height: 32px;\n",
              "      padding: 0 0 0 0;\n",
              "      width: 32px;\n",
              "    }\n",
              "\n",
              "    .colab-df-convert:hover {\n",
              "      background-color: #E2EBFA;\n",
              "      box-shadow: 0px 1px 2px rgba(60, 64, 67, 0.3), 0px 1px 3px 1px rgba(60, 64, 67, 0.15);\n",
              "      fill: #174EA6;\n",
              "    }\n",
              "\n",
              "    .colab-df-buttons div {\n",
              "      margin-bottom: 4px;\n",
              "    }\n",
              "\n",
              "    [theme=dark] .colab-df-convert {\n",
              "      background-color: #3B4455;\n",
              "      fill: #D2E3FC;\n",
              "    }\n",
              "\n",
              "    [theme=dark] .colab-df-convert:hover {\n",
              "      background-color: #434B5C;\n",
              "      box-shadow: 0px 1px 3px 1px rgba(0, 0, 0, 0.15);\n",
              "      filter: drop-shadow(0px 1px 2px rgba(0, 0, 0, 0.3));\n",
              "      fill: #FFFFFF;\n",
              "    }\n",
              "  </style>\n",
              "\n",
              "    <script>\n",
              "      const buttonEl =\n",
              "        document.querySelector('#df-772f7747-0d26-40bd-a12f-07a76cb4e3bc button.colab-df-convert');\n",
              "      buttonEl.style.display =\n",
              "        google.colab.kernel.accessAllowed ? 'block' : 'none';\n",
              "\n",
              "      async function convertToInteractive(key) {\n",
              "        const element = document.querySelector('#df-772f7747-0d26-40bd-a12f-07a76cb4e3bc');\n",
              "        const dataTable =\n",
              "          await google.colab.kernel.invokeFunction('convertToInteractive',\n",
              "                                                    [key], {});\n",
              "        if (!dataTable) return;\n",
              "\n",
              "        const docLinkHtml = 'Like what you see? Visit the ' +\n",
              "          '<a target=\"_blank\" href=https://colab.research.google.com/notebooks/data_table.ipynb>data table notebook</a>'\n",
              "          + ' to learn more about interactive tables.';\n",
              "        element.innerHTML = '';\n",
              "        dataTable['output_type'] = 'display_data';\n",
              "        await google.colab.output.renderOutput(dataTable, element);\n",
              "        const docLink = document.createElement('div');\n",
              "        docLink.innerHTML = docLinkHtml;\n",
              "        element.appendChild(docLink);\n",
              "      }\n",
              "    </script>\n",
              "  </div>\n",
              "\n",
              "\n",
              "<div id=\"df-ebd3da58-0cdc-4786-a3c4-a25de7f60b0d\">\n",
              "  <button class=\"colab-df-quickchart\" onclick=\"quickchart('df-ebd3da58-0cdc-4786-a3c4-a25de7f60b0d')\"\n",
              "            title=\"Suggest charts\"\n",
              "            style=\"display:none;\">\n",
              "\n",
              "<svg xmlns=\"http://www.w3.org/2000/svg\" height=\"24px\"viewBox=\"0 0 24 24\"\n",
              "     width=\"24px\">\n",
              "    <g>\n",
              "        <path d=\"M19 3H5c-1.1 0-2 .9-2 2v14c0 1.1.9 2 2 2h14c1.1 0 2-.9 2-2V5c0-1.1-.9-2-2-2zM9 17H7v-7h2v7zm4 0h-2V7h2v10zm4 0h-2v-4h2v4z\"/>\n",
              "    </g>\n",
              "</svg>\n",
              "  </button>\n",
              "\n",
              "<style>\n",
              "  .colab-df-quickchart {\n",
              "      --bg-color: #E8F0FE;\n",
              "      --fill-color: #1967D2;\n",
              "      --hover-bg-color: #E2EBFA;\n",
              "      --hover-fill-color: #174EA6;\n",
              "      --disabled-fill-color: #AAA;\n",
              "      --disabled-bg-color: #DDD;\n",
              "  }\n",
              "\n",
              "  [theme=dark] .colab-df-quickchart {\n",
              "      --bg-color: #3B4455;\n",
              "      --fill-color: #D2E3FC;\n",
              "      --hover-bg-color: #434B5C;\n",
              "      --hover-fill-color: #FFFFFF;\n",
              "      --disabled-bg-color: #3B4455;\n",
              "      --disabled-fill-color: #666;\n",
              "  }\n",
              "\n",
              "  .colab-df-quickchart {\n",
              "    background-color: var(--bg-color);\n",
              "    border: none;\n",
              "    border-radius: 50%;\n",
              "    cursor: pointer;\n",
              "    display: none;\n",
              "    fill: var(--fill-color);\n",
              "    height: 32px;\n",
              "    padding: 0;\n",
              "    width: 32px;\n",
              "  }\n",
              "\n",
              "  .colab-df-quickchart:hover {\n",
              "    background-color: var(--hover-bg-color);\n",
              "    box-shadow: 0 1px 2px rgba(60, 64, 67, 0.3), 0 1px 3px 1px rgba(60, 64, 67, 0.15);\n",
              "    fill: var(--button-hover-fill-color);\n",
              "  }\n",
              "\n",
              "  .colab-df-quickchart-complete:disabled,\n",
              "  .colab-df-quickchart-complete:disabled:hover {\n",
              "    background-color: var(--disabled-bg-color);\n",
              "    fill: var(--disabled-fill-color);\n",
              "    box-shadow: none;\n",
              "  }\n",
              "\n",
              "  .colab-df-spinner {\n",
              "    border: 2px solid var(--fill-color);\n",
              "    border-color: transparent;\n",
              "    border-bottom-color: var(--fill-color);\n",
              "    animation:\n",
              "      spin 1s steps(1) infinite;\n",
              "  }\n",
              "\n",
              "  @keyframes spin {\n",
              "    0% {\n",
              "      border-color: transparent;\n",
              "      border-bottom-color: var(--fill-color);\n",
              "      border-left-color: var(--fill-color);\n",
              "    }\n",
              "    20% {\n",
              "      border-color: transparent;\n",
              "      border-left-color: var(--fill-color);\n",
              "      border-top-color: var(--fill-color);\n",
              "    }\n",
              "    30% {\n",
              "      border-color: transparent;\n",
              "      border-left-color: var(--fill-color);\n",
              "      border-top-color: var(--fill-color);\n",
              "      border-right-color: var(--fill-color);\n",
              "    }\n",
              "    40% {\n",
              "      border-color: transparent;\n",
              "      border-right-color: var(--fill-color);\n",
              "      border-top-color: var(--fill-color);\n",
              "    }\n",
              "    60% {\n",
              "      border-color: transparent;\n",
              "      border-right-color: var(--fill-color);\n",
              "    }\n",
              "    80% {\n",
              "      border-color: transparent;\n",
              "      border-right-color: var(--fill-color);\n",
              "      border-bottom-color: var(--fill-color);\n",
              "    }\n",
              "    90% {\n",
              "      border-color: transparent;\n",
              "      border-bottom-color: var(--fill-color);\n",
              "    }\n",
              "  }\n",
              "</style>\n",
              "\n",
              "  <script>\n",
              "    async function quickchart(key) {\n",
              "      const quickchartButtonEl =\n",
              "        document.querySelector('#' + key + ' button');\n",
              "      quickchartButtonEl.disabled = true;  // To prevent multiple clicks.\n",
              "      quickchartButtonEl.classList.add('colab-df-spinner');\n",
              "      try {\n",
              "        const charts = await google.colab.kernel.invokeFunction(\n",
              "            'suggestCharts', [key], {});\n",
              "      } catch (error) {\n",
              "        console.error('Error during call to suggestCharts:', error);\n",
              "      }\n",
              "      quickchartButtonEl.classList.remove('colab-df-spinner');\n",
              "      quickchartButtonEl.classList.add('colab-df-quickchart-complete');\n",
              "    }\n",
              "    (() => {\n",
              "      let quickchartButtonEl =\n",
              "        document.querySelector('#df-ebd3da58-0cdc-4786-a3c4-a25de7f60b0d button');\n",
              "      quickchartButtonEl.style.display =\n",
              "        google.colab.kernel.accessAllowed ? 'block' : 'none';\n",
              "    })();\n",
              "  </script>\n",
              "</div>\n",
              "\n",
              "    </div>\n",
              "  </div>\n"
            ],
            "application/vnd.google.colaboratory.intrinsic+json": {
              "type": "dataframe",
              "variable_name": "df_present"
            }
          },
          "metadata": {},
          "execution_count": 4
        }
      ]
    },
    {
      "cell_type": "code",
      "source": [
        "print(df_present.info())"
      ],
      "metadata": {
        "id": "45mnZod2iWC7",
        "colab": {
          "base_uri": "https://localhost:8080/"
        },
        "outputId": "8a20c05f-d965-44c0-c0fe-f0c2e3988b57"
      },
      "execution_count": 5,
      "outputs": [
        {
          "output_type": "stream",
          "name": "stdout",
          "text": [
            "<class 'pandas.core.frame.DataFrame'>\n",
            "RangeIndex: 16000 entries, 0 to 15999\n",
            "Columns: 171 entries, class to eg_000\n",
            "dtypes: int64(1), object(170)\n",
            "memory usage: 20.9+ MB\n",
            "None\n"
          ]
        }
      ]
    },
    {
      "cell_type": "markdown",
      "source": [
        "#Questões"
      ],
      "metadata": {
        "id": "27XBS2TD4Efn"
      }
    },
    {
      "cell_type": "code",
      "source": [
        "df[\"class\"].value_counts()"
      ],
      "metadata": {
        "id": "rbRrHlggjKNL",
        "colab": {
          "base_uri": "https://localhost:8080/"
        },
        "outputId": "2a72491e-001e-43bc-a733-ac2e215b3af4"
      },
      "execution_count": 7,
      "outputs": [
        {
          "output_type": "execute_result",
          "data": {
            "text/plain": [
              "class\n",
              "neg    59000\n",
              "pos     1000\n",
              "Name: count, dtype: int64"
            ]
          },
          "metadata": {},
          "execution_count": 7
        }
      ]
    },
    {
      "cell_type": "code",
      "source": [
        "df_ee_003 = df[[\"ee_003\"]]\n",
        "print(df_ee_003.value_counts())\n",
        "df_ee_003 = df_ee_003.drop(df_ee_003[df_ee_003['ee_003'] == 'na'].index)\n",
        "print(df_ee_003.value_counts())\n",
        "df_ee_003['ee_003'] = df_ee_003['ee_003'].astype('int64')\n",
        "\n",
        "\n",
        "print(df_ee_003.describe())\n",
        "print(df_ee_003.median())"
      ],
      "metadata": {
        "id": "sCc0saqbkhPf",
        "colab": {
          "base_uri": "https://localhost:8080/"
        },
        "outputId": "e794c29a-9a1a-4c8e-9710-14f7b842c9a0"
      },
      "execution_count": 8,
      "outputs": [
        {
          "output_type": "stream",
          "name": "stdout",
          "text": [
            "ee_003\n",
            "0         1557\n",
            "na         671\n",
            "10         479\n",
            "8          453\n",
            "12         403\n",
            "          ... \n",
            "198872       1\n",
            "19886        1\n",
            "198846       1\n",
            "198838       1\n",
            "237100       1\n",
            "Name: count, Length: 31712, dtype: int64\n",
            "ee_003\n",
            "0         1557\n",
            "10         479\n",
            "8          453\n",
            "12         403\n",
            "14         338\n",
            "          ... \n",
            "212280       1\n",
            "212262       1\n",
            "212238       1\n",
            "212232       1\n",
            "99992        1\n",
            "Name: count, Length: 31711, dtype: int64\n",
            "             ee_003\n",
            "count  5.932900e+04\n",
            "mean   2.111264e+05\n",
            "std    5.433188e+05\n",
            "min    0.000000e+00\n",
            "25%    1.166000e+03\n",
            "50%    1.120860e+05\n",
            "75%    2.182320e+05\n",
            "max    3.775839e+07\n",
            "ee_003    112086.0\n",
            "dtype: float64\n"
          ]
        }
      ]
    },
    {
      "cell_type": "code",
      "source": [
        "df_ag_002 = df[[\"ag_002\"]]\n",
        "print(df_ag_002.value_counts())\n",
        "df_ag_002 = df_ag_002.drop(df_ag_002[df_ag_002['ag_002'] == 'na'].index)\n",
        "print(df_ag_002.value_counts())\n",
        "df_ag_002['ag_002'] = df_ag_002['ag_002'].astype('int64')\n",
        "\n",
        "\n",
        "print(df_ag_002.describe())\n",
        "print(df_ag_002.median())"
      ],
      "metadata": {
        "id": "xSNhLdW2lZ5r",
        "colab": {
          "base_uri": "https://localhost:8080/"
        },
        "outputId": "a938cd79-9035-44af-884e-ed606c6d9414"
      },
      "execution_count": 9,
      "outputs": [
        {
          "output_type": "stream",
          "name": "stdout",
          "text": [
            "ag_002\n",
            "0         56181\n",
            "na          671\n",
            "6             9\n",
            "342           9\n",
            "16            8\n",
            "          ...  \n",
            "233230        1\n",
            "233002        1\n",
            "232396        1\n",
            "23232         1\n",
            "3144          1\n",
            "Name: count, Length: 2423, dtype: int64\n",
            "ag_002\n",
            "0         56181\n",
            "342           9\n",
            "6             9\n",
            "16            8\n",
            "12            7\n",
            "          ...  \n",
            "233002        1\n",
            "232396        1\n",
            "23232         1\n",
            "23218         1\n",
            "9996          1\n",
            "Name: count, Length: 2422, dtype: int64\n",
            "             ag_002\n",
            "count  5.932900e+04\n",
            "mean   8.606015e+03\n",
            "std    1.503220e+05\n",
            "min    0.000000e+00\n",
            "25%    0.000000e+00\n",
            "50%    0.000000e+00\n",
            "75%    0.000000e+00\n",
            "max    1.055286e+07\n",
            "ag_002    0.0\n",
            "dtype: float64\n"
          ]
        }
      ]
    },
    {
      "cell_type": "code",
      "source": [
        "df_spearman = df[[\"ag_002\", \"ee_007\"]]\n",
        "df_spearman = df_spearman.drop(df_spearman[df_spearman['ag_002'] == 'na'].index)\n",
        "df_spearman = df_spearman.drop(df_spearman[df_spearman['ee_007'] == 'na'].index)\n",
        "\n",
        "df_spearman['ag_002'] = df_spearman['ag_002'].astype('float64')\n",
        "df_spearman['ee_007'] = df_spearman['ee_007'].astype('float64')\n",
        "\n",
        "spearmanr = scipy.stats.spearmanr(df_spearman['ag_002'], df_spearman['ee_007'])\n",
        "print(spearmanr)"
      ],
      "metadata": {
        "id": "uK3rvfpdsKbl",
        "colab": {
          "base_uri": "https://localhost:8080/"
        },
        "outputId": "a72c63c7-fa80-4689-9f38-37dd47b3a254"
      },
      "execution_count": 10,
      "outputs": [
        {
          "output_type": "stream",
          "name": "stdout",
          "text": [
            "SignificanceResult(statistic=0.19508353891062494, pvalue=0.0)\n"
          ]
        }
      ]
    },
    {
      "cell_type": "code",
      "source": [
        "df_Pearson = df[[\"ee_005\", \"ac_000\"]]\n",
        "df_Pearson = df_Pearson.drop(df_Pearson[df_Pearson['ee_005'] == 'na'].index)\n",
        "df_Pearson = df_Pearson.drop(df_Pearson[df_Pearson['ac_000'] == 'na'].index)\n",
        "\n",
        "df_Pearson['ee_005'] = df_Pearson['ee_005'].astype('int64')\n",
        "df_Pearson['ac_000'] = df_Pearson['ac_000'].astype('int64')\n",
        "\n",
        "pearsonr = scipy.stats.pearsonr(df_Pearson['ac_000'], df_Pearson['ee_005'])\n",
        "print(pearsonr)"
      ],
      "metadata": {
        "id": "M7Z--zevvEmP",
        "colab": {
          "base_uri": "https://localhost:8080/"
        },
        "outputId": "6e8ed69e-22af-4d12-f4c0-95079e1213fe"
      },
      "execution_count": 11,
      "outputs": [
        {
          "output_type": "stream",
          "name": "stdout",
          "text": [
            "PearsonRResult(statistic=-0.011206391618647357, pvalue=0.00788222000627614)\n"
          ]
        }
      ]
    },
    {
      "cell_type": "code",
      "source": [
        "df_ad_000 = df[[\"class\",\"ad_000\"]]\n",
        "df_ad_000 = df_ad_000.drop(df_ad_000[df_ad_000['ad_000'] == 'na'].index)\n",
        "df_ad_000['ad_000'] = df_ad_000['ad_000'].astype('float64')\n",
        "\n",
        "print(df_ad_000['ad_000'][df_ad_000['class'] == 'neg'].median())\n",
        "print(df_ad_000['ad_000'][df_ad_000['class'] == 'pos'].median())\n"
      ],
      "metadata": {
        "id": "aKA2JbYEwuLK",
        "colab": {
          "base_uri": "https://localhost:8080/"
        },
        "outputId": "136507e2-4f55-4cac-e782-8fdeaf8988e9"
      },
      "execution_count": 12,
      "outputs": [
        {
          "output_type": "stream",
          "name": "stdout",
          "text": [
            "124.0\n",
            "648.0\n"
          ]
        }
      ]
    },
    {
      "cell_type": "code",
      "source": [
        "df_ee_001 = df[[\"class\",\"ee_001\"]]\n",
        "df_ee_001 = df_ee_001.drop(df_ee_001[df_ee_001['ee_001'] == 'na'].index)\n",
        "df_ee_001['ee_001'] = df_ee_001['ee_001'].astype('float64')\n",
        "\n",
        "print(df_ee_001['ee_001'][df_ee_001['class'] == 'neg'].mean())\n",
        "print(df_ee_001['ee_001'][df_ee_001['class'] == 'pos'].mean())"
      ],
      "metadata": {
        "id": "YCPoRQp3yxan",
        "colab": {
          "base_uri": "https://localhost:8080/"
        },
        "outputId": "fc10dc8c-7886-4da4-c377-7dc953d20615"
      },
      "execution_count": 13,
      "outputs": [
        {
          "output_type": "stream",
          "name": "stdout",
          "text": [
            "661516.0092913224\n",
            "7957407.738693467\n"
          ]
        }
      ]
    },
    {
      "cell_type": "code",
      "source": [
        "nan_count = 0\n",
        "nan_rank = pd.DataFrame(columns=['nan_count'])\n",
        "for i in df.columns:\n",
        "  if 'na' in df[i].value_counts().index:\n",
        "    nan_count +=df[i].value_counts()[\"na\"]\n",
        "    nan_rank.loc[i] = [df[i].value_counts()[\"na\"]]\n",
        "print(nan_count)\n",
        "nan_rank.sort_values(by=['nan_count'])"
      ],
      "metadata": {
        "id": "I-0L8xtO0xSC",
        "colab": {
          "base_uri": "https://localhost:8080/",
          "height": 0
        },
        "outputId": "f246fb4e-42f2-4da9-a916-57780bc39394"
      },
      "execution_count": 14,
      "outputs": [
        {
          "output_type": "stream",
          "name": "stdout",
          "text": [
            "850015\n"
          ]
        },
        {
          "output_type": "execute_result",
          "data": {
            "text/plain": [
              "        nan_count\n",
              "bt_000        167\n",
              "ci_000        338\n",
              "cj_000        338\n",
              "ck_000        338\n",
              "by_000        473\n",
              "...           ...\n",
              "cr_000      46329\n",
              "bo_000      46333\n",
              "bp_000      47740\n",
              "bq_000      48722\n",
              "br_000      49264\n",
              "\n",
              "[169 rows x 1 columns]"
            ],
            "text/html": [
              "\n",
              "  <div id=\"df-f67f831a-a2fc-42aa-b83f-5a9ca276baa7\" class=\"colab-df-container\">\n",
              "    <div>\n",
              "<style scoped>\n",
              "    .dataframe tbody tr th:only-of-type {\n",
              "        vertical-align: middle;\n",
              "    }\n",
              "\n",
              "    .dataframe tbody tr th {\n",
              "        vertical-align: top;\n",
              "    }\n",
              "\n",
              "    .dataframe thead th {\n",
              "        text-align: right;\n",
              "    }\n",
              "</style>\n",
              "<table border=\"1\" class=\"dataframe\">\n",
              "  <thead>\n",
              "    <tr style=\"text-align: right;\">\n",
              "      <th></th>\n",
              "      <th>nan_count</th>\n",
              "    </tr>\n",
              "  </thead>\n",
              "  <tbody>\n",
              "    <tr>\n",
              "      <th>bt_000</th>\n",
              "      <td>167</td>\n",
              "    </tr>\n",
              "    <tr>\n",
              "      <th>ci_000</th>\n",
              "      <td>338</td>\n",
              "    </tr>\n",
              "    <tr>\n",
              "      <th>cj_000</th>\n",
              "      <td>338</td>\n",
              "    </tr>\n",
              "    <tr>\n",
              "      <th>ck_000</th>\n",
              "      <td>338</td>\n",
              "    </tr>\n",
              "    <tr>\n",
              "      <th>by_000</th>\n",
              "      <td>473</td>\n",
              "    </tr>\n",
              "    <tr>\n",
              "      <th>...</th>\n",
              "      <td>...</td>\n",
              "    </tr>\n",
              "    <tr>\n",
              "      <th>cr_000</th>\n",
              "      <td>46329</td>\n",
              "    </tr>\n",
              "    <tr>\n",
              "      <th>bo_000</th>\n",
              "      <td>46333</td>\n",
              "    </tr>\n",
              "    <tr>\n",
              "      <th>bp_000</th>\n",
              "      <td>47740</td>\n",
              "    </tr>\n",
              "    <tr>\n",
              "      <th>bq_000</th>\n",
              "      <td>48722</td>\n",
              "    </tr>\n",
              "    <tr>\n",
              "      <th>br_000</th>\n",
              "      <td>49264</td>\n",
              "    </tr>\n",
              "  </tbody>\n",
              "</table>\n",
              "<p>169 rows × 1 columns</p>\n",
              "</div>\n",
              "    <div class=\"colab-df-buttons\">\n",
              "\n",
              "  <div class=\"colab-df-container\">\n",
              "    <button class=\"colab-df-convert\" onclick=\"convertToInteractive('df-f67f831a-a2fc-42aa-b83f-5a9ca276baa7')\"\n",
              "            title=\"Convert this dataframe to an interactive table.\"\n",
              "            style=\"display:none;\">\n",
              "\n",
              "  <svg xmlns=\"http://www.w3.org/2000/svg\" height=\"24px\" viewBox=\"0 -960 960 960\">\n",
              "    <path d=\"M120-120v-720h720v720H120Zm60-500h600v-160H180v160Zm220 220h160v-160H400v160Zm0 220h160v-160H400v160ZM180-400h160v-160H180v160Zm440 0h160v-160H620v160ZM180-180h160v-160H180v160Zm440 0h160v-160H620v160Z\"/>\n",
              "  </svg>\n",
              "    </button>\n",
              "\n",
              "  <style>\n",
              "    .colab-df-container {\n",
              "      display:flex;\n",
              "      gap: 12px;\n",
              "    }\n",
              "\n",
              "    .colab-df-convert {\n",
              "      background-color: #E8F0FE;\n",
              "      border: none;\n",
              "      border-radius: 50%;\n",
              "      cursor: pointer;\n",
              "      display: none;\n",
              "      fill: #1967D2;\n",
              "      height: 32px;\n",
              "      padding: 0 0 0 0;\n",
              "      width: 32px;\n",
              "    }\n",
              "\n",
              "    .colab-df-convert:hover {\n",
              "      background-color: #E2EBFA;\n",
              "      box-shadow: 0px 1px 2px rgba(60, 64, 67, 0.3), 0px 1px 3px 1px rgba(60, 64, 67, 0.15);\n",
              "      fill: #174EA6;\n",
              "    }\n",
              "\n",
              "    .colab-df-buttons div {\n",
              "      margin-bottom: 4px;\n",
              "    }\n",
              "\n",
              "    [theme=dark] .colab-df-convert {\n",
              "      background-color: #3B4455;\n",
              "      fill: #D2E3FC;\n",
              "    }\n",
              "\n",
              "    [theme=dark] .colab-df-convert:hover {\n",
              "      background-color: #434B5C;\n",
              "      box-shadow: 0px 1px 3px 1px rgba(0, 0, 0, 0.15);\n",
              "      filter: drop-shadow(0px 1px 2px rgba(0, 0, 0, 0.3));\n",
              "      fill: #FFFFFF;\n",
              "    }\n",
              "  </style>\n",
              "\n",
              "    <script>\n",
              "      const buttonEl =\n",
              "        document.querySelector('#df-f67f831a-a2fc-42aa-b83f-5a9ca276baa7 button.colab-df-convert');\n",
              "      buttonEl.style.display =\n",
              "        google.colab.kernel.accessAllowed ? 'block' : 'none';\n",
              "\n",
              "      async function convertToInteractive(key) {\n",
              "        const element = document.querySelector('#df-f67f831a-a2fc-42aa-b83f-5a9ca276baa7');\n",
              "        const dataTable =\n",
              "          await google.colab.kernel.invokeFunction('convertToInteractive',\n",
              "                                                    [key], {});\n",
              "        if (!dataTable) return;\n",
              "\n",
              "        const docLinkHtml = 'Like what you see? Visit the ' +\n",
              "          '<a target=\"_blank\" href=https://colab.research.google.com/notebooks/data_table.ipynb>data table notebook</a>'\n",
              "          + ' to learn more about interactive tables.';\n",
              "        element.innerHTML = '';\n",
              "        dataTable['output_type'] = 'display_data';\n",
              "        await google.colab.output.renderOutput(dataTable, element);\n",
              "        const docLink = document.createElement('div');\n",
              "        docLink.innerHTML = docLinkHtml;\n",
              "        element.appendChild(docLink);\n",
              "      }\n",
              "    </script>\n",
              "  </div>\n",
              "\n",
              "\n",
              "<div id=\"df-1688576c-9565-4ad4-b025-9e0835abb916\">\n",
              "  <button class=\"colab-df-quickchart\" onclick=\"quickchart('df-1688576c-9565-4ad4-b025-9e0835abb916')\"\n",
              "            title=\"Suggest charts\"\n",
              "            style=\"display:none;\">\n",
              "\n",
              "<svg xmlns=\"http://www.w3.org/2000/svg\" height=\"24px\"viewBox=\"0 0 24 24\"\n",
              "     width=\"24px\">\n",
              "    <g>\n",
              "        <path d=\"M19 3H5c-1.1 0-2 .9-2 2v14c0 1.1.9 2 2 2h14c1.1 0 2-.9 2-2V5c0-1.1-.9-2-2-2zM9 17H7v-7h2v7zm4 0h-2V7h2v10zm4 0h-2v-4h2v4z\"/>\n",
              "    </g>\n",
              "</svg>\n",
              "  </button>\n",
              "\n",
              "<style>\n",
              "  .colab-df-quickchart {\n",
              "      --bg-color: #E8F0FE;\n",
              "      --fill-color: #1967D2;\n",
              "      --hover-bg-color: #E2EBFA;\n",
              "      --hover-fill-color: #174EA6;\n",
              "      --disabled-fill-color: #AAA;\n",
              "      --disabled-bg-color: #DDD;\n",
              "  }\n",
              "\n",
              "  [theme=dark] .colab-df-quickchart {\n",
              "      --bg-color: #3B4455;\n",
              "      --fill-color: #D2E3FC;\n",
              "      --hover-bg-color: #434B5C;\n",
              "      --hover-fill-color: #FFFFFF;\n",
              "      --disabled-bg-color: #3B4455;\n",
              "      --disabled-fill-color: #666;\n",
              "  }\n",
              "\n",
              "  .colab-df-quickchart {\n",
              "    background-color: var(--bg-color);\n",
              "    border: none;\n",
              "    border-radius: 50%;\n",
              "    cursor: pointer;\n",
              "    display: none;\n",
              "    fill: var(--fill-color);\n",
              "    height: 32px;\n",
              "    padding: 0;\n",
              "    width: 32px;\n",
              "  }\n",
              "\n",
              "  .colab-df-quickchart:hover {\n",
              "    background-color: var(--hover-bg-color);\n",
              "    box-shadow: 0 1px 2px rgba(60, 64, 67, 0.3), 0 1px 3px 1px rgba(60, 64, 67, 0.15);\n",
              "    fill: var(--button-hover-fill-color);\n",
              "  }\n",
              "\n",
              "  .colab-df-quickchart-complete:disabled,\n",
              "  .colab-df-quickchart-complete:disabled:hover {\n",
              "    background-color: var(--disabled-bg-color);\n",
              "    fill: var(--disabled-fill-color);\n",
              "    box-shadow: none;\n",
              "  }\n",
              "\n",
              "  .colab-df-spinner {\n",
              "    border: 2px solid var(--fill-color);\n",
              "    border-color: transparent;\n",
              "    border-bottom-color: var(--fill-color);\n",
              "    animation:\n",
              "      spin 1s steps(1) infinite;\n",
              "  }\n",
              "\n",
              "  @keyframes spin {\n",
              "    0% {\n",
              "      border-color: transparent;\n",
              "      border-bottom-color: var(--fill-color);\n",
              "      border-left-color: var(--fill-color);\n",
              "    }\n",
              "    20% {\n",
              "      border-color: transparent;\n",
              "      border-left-color: var(--fill-color);\n",
              "      border-top-color: var(--fill-color);\n",
              "    }\n",
              "    30% {\n",
              "      border-color: transparent;\n",
              "      border-left-color: var(--fill-color);\n",
              "      border-top-color: var(--fill-color);\n",
              "      border-right-color: var(--fill-color);\n",
              "    }\n",
              "    40% {\n",
              "      border-color: transparent;\n",
              "      border-right-color: var(--fill-color);\n",
              "      border-top-color: var(--fill-color);\n",
              "    }\n",
              "    60% {\n",
              "      border-color: transparent;\n",
              "      border-right-color: var(--fill-color);\n",
              "    }\n",
              "    80% {\n",
              "      border-color: transparent;\n",
              "      border-right-color: var(--fill-color);\n",
              "      border-bottom-color: var(--fill-color);\n",
              "    }\n",
              "    90% {\n",
              "      border-color: transparent;\n",
              "      border-bottom-color: var(--fill-color);\n",
              "    }\n",
              "  }\n",
              "</style>\n",
              "\n",
              "  <script>\n",
              "    async function quickchart(key) {\n",
              "      const quickchartButtonEl =\n",
              "        document.querySelector('#' + key + ' button');\n",
              "      quickchartButtonEl.disabled = true;  // To prevent multiple clicks.\n",
              "      quickchartButtonEl.classList.add('colab-df-spinner');\n",
              "      try {\n",
              "        const charts = await google.colab.kernel.invokeFunction(\n",
              "            'suggestCharts', [key], {});\n",
              "      } catch (error) {\n",
              "        console.error('Error during call to suggestCharts:', error);\n",
              "      }\n",
              "      quickchartButtonEl.classList.remove('colab-df-spinner');\n",
              "      quickchartButtonEl.classList.add('colab-df-quickchart-complete');\n",
              "    }\n",
              "    (() => {\n",
              "      let quickchartButtonEl =\n",
              "        document.querySelector('#df-1688576c-9565-4ad4-b025-9e0835abb916 button');\n",
              "      quickchartButtonEl.style.display =\n",
              "        google.colab.kernel.accessAllowed ? 'block' : 'none';\n",
              "    })();\n",
              "  </script>\n",
              "</div>\n",
              "\n",
              "    </div>\n",
              "  </div>\n"
            ],
            "application/vnd.google.colaboratory.intrinsic+json": {
              "type": "dataframe",
              "summary": "{\n  \"name\": \"nan_rank\",\n  \"rows\": 169,\n  \"fields\": [\n    {\n      \"column\": \"nan_count\",\n      \"properties\": {\n        \"dtype\": \"number\",\n        \"std\": 10258,\n        \"min\": 167,\n        \"max\": 49264,\n        \"num_unique_values\": 46,\n        \"samples\": [\n          39549,\n          3335,\n          4006\n        ],\n        \"semantic_type\": \"\",\n        \"description\": \"\"\n      }\n    }\n  ]\n}"
            }
          },
          "metadata": {},
          "execution_count": 14
        }
      ]
    },
    {
      "cell_type": "code",
      "source": [
        "def cost_function(fp, fn, tn):\n",
        "  return(10*fp+5000*fn+25*tn)\n",
        "\n",
        "print(cost_function(678,628,132))\n",
        "print(cost_function(1227,638,465))\n",
        "print(cost_function(1967,408,152))\n",
        "print(cost_function(1621,585,216))\n",
        "print(cost_function(542,585,216))"
      ],
      "metadata": {
        "id": "Bu-DMHKqErIi",
        "colab": {
          "base_uri": "https://localhost:8080/"
        },
        "outputId": "bb0ee54b-cf81-45b6-c312-91d1b5afd7ba"
      },
      "execution_count": 15,
      "outputs": [
        {
          "output_type": "stream",
          "name": "stdout",
          "text": [
            "3150080\n",
            "3213895\n",
            "2063470\n",
            "2946610\n",
            "2935820\n"
          ]
        }
      ]
    },
    {
      "cell_type": "code",
      "source": [
        "print(df[[\"ci_000\"]])"
      ],
      "metadata": {
        "id": "EKKShFv8HpfE",
        "colab": {
          "base_uri": "https://localhost:8080/"
        },
        "outputId": "1cbd303f-150e-432f-cce5-41c5f6fda7b4"
      },
      "execution_count": 16,
      "outputs": [
        {
          "output_type": "stream",
          "name": "stdout",
          "text": [
            "           ci_000\n",
            "0         5245752\n",
            "1      2291079.36\n",
            "2      2322692.16\n",
            "3         2135.04\n",
            "4       3565684.8\n",
            "...           ...\n",
            "59995  8289544.32\n",
            "59996   123344.64\n",
            "59997     7518.72\n",
            "59998  4776505.92\n",
            "59999  2480113.92\n",
            "\n",
            "[60000 rows x 1 columns]\n"
          ]
        }
      ]
    },
    {
      "cell_type": "code",
      "source": [
        "df_ci_000 = df[[\"ci_000\"]]\n",
        "df_ci_000 = df_ci_000.drop(df_ci_000[df_ci_000['ci_000'] == 'na'].index)\n",
        "df_ci_000['ci_000'] = df_ci_000['ci_000'].astype('float64')\n",
        "\n",
        "print(df_ci_000.describe())\n",
        "\n",
        "df_ci_000.quantile(0.32)"
      ],
      "metadata": {
        "id": "P2rk3C5sFNfJ",
        "colab": {
          "base_uri": "https://localhost:8080/"
        },
        "outputId": "8e681bf5-f746-4e30-d15e-d8ba487e430d"
      },
      "execution_count": 17,
      "outputs": [
        {
          "output_type": "stream",
          "name": "stdout",
          "text": [
            "             ci_000\n",
            "count  5.966200e+04\n",
            "mean   3.481204e+06\n",
            "std    8.355997e+06\n",
            "min    0.000000e+00\n",
            "25%    4.824984e+04\n",
            "50%    1.858641e+06\n",
            "75%    2.947266e+06\n",
            "max    1.409861e+08\n"
          ]
        },
        {
          "output_type": "execute_result",
          "data": {
            "text/plain": [
              "ci_000    96517.5552\n",
              "Name: 0.32, dtype: float64"
            ]
          },
          "metadata": {},
          "execution_count": 17
        }
      ]
    },
    {
      "cell_type": "markdown",
      "source": [
        "#Tratamento e Limpeza dos dados\n"
      ],
      "metadata": {
        "id": "eDkSHG5W35jM"
      }
    },
    {
      "cell_type": "code",
      "source": [
        "#Eliminar colunas com mais de 1/4 dos valores sendo NaN\n",
        "\n",
        "df_clear = df\n",
        "for i in df.columns:\n",
        "  if i in nan_rank.index:\n",
        "    if nan_rank.loc[i][0] > 15000:\n",
        "      print(i)\n",
        "      df_clear = df_clear.drop(columns=[i])\n"
      ],
      "metadata": {
        "id": "Gxdz7_A8r2h-",
        "colab": {
          "base_uri": "https://localhost:8080/"
        },
        "outputId": "a4115738-f12c-4854-ed0f-7af60f629af7"
      },
      "execution_count": 18,
      "outputs": [
        {
          "output_type": "stream",
          "name": "stdout",
          "text": [
            "ab_000\n",
            "bk_000\n",
            "bl_000\n",
            "bm_000\n",
            "bn_000\n",
            "bo_000\n",
            "bp_000\n",
            "bq_000\n",
            "br_000\n",
            "cr_000\n"
          ]
        }
      ]
    },
    {
      "cell_type": "code",
      "source": [
        "#Substituir valores NaN pela mediana da coluna\n",
        "\n",
        "print(df_clear.isnull().values.any())\n",
        "df_clear = df_clear.replace(\"na\", math.nan)\n",
        "df_clear = df_clear.replace(\"neg\", 0)\n",
        "df_clear = df_clear.replace(\"pos\", 1)\n",
        "print(df_clear.isnull().values.any())\n",
        "for i in df_clear.columns:\n",
        "  if i != \"class\":\n",
        "    df_clear[i] = df_clear[i].astype('float64')\n",
        "    df_clear[i] = df_clear[i].fillna(df_clear[i].median())\n",
        "\n",
        "print(df_clear.isnull().values.any())\n"
      ],
      "metadata": {
        "id": "VhCgLNv3w3DX",
        "colab": {
          "base_uri": "https://localhost:8080/"
        },
        "outputId": "b2ce41a5-8332-4b60-b52a-3f1dd954b516"
      },
      "execution_count": 19,
      "outputs": [
        {
          "output_type": "stream",
          "name": "stdout",
          "text": [
            "False\n",
            "True\n",
            "False\n"
          ]
        }
      ]
    },
    {
      "cell_type": "code",
      "source": [
        "#eliminar variaveis com correlação menor que 0.2 (calculando correlação com point_biserial)\n",
        "for i in df_clear.columns:\n",
        "  if i != \"class\":\n",
        "    point_biserial, p_value = scipy.stats.pointbiserialr((df_clear['class']), df_clear[i])\n",
        "    if (point_biserial <0.2):\n",
        "      print(i)\n",
        "      df_clear = df_clear.drop(columns=[i])"
      ],
      "metadata": {
        "id": "rmFSluu1wXI5",
        "colab": {
          "base_uri": "https://localhost:8080/"
        },
        "outputId": "8819ceaa-2c26-4b00-85c0-2bde0d74dc50"
      },
      "execution_count": 20,
      "outputs": [
        {
          "output_type": "stream",
          "name": "stdout",
          "text": [
            "ac_000\n",
            "ad_000\n",
            "ae_000\n",
            "af_000\n",
            "ag_000\n",
            "ag_001\n",
            "ag_008\n",
            "ag_009\n",
            "ai_000\n",
            "aj_000\n",
            "ak_000\n",
            "ar_000\n",
            "as_000\n",
            "at_000\n",
            "au_000\n",
            "av_000\n",
            "ax_000\n",
            "ay_000\n",
            "ay_001\n",
            "ay_002\n",
            "ay_003\n",
            "ay_004\n",
            "ay_009\n",
            "az_002\n",
            "az_003\n",
            "az_006\n",
            "az_008\n",
            "az_009\n",
            "bc_000\n",
            "bd_000\n",
            "be_000\n",
            "bf_000\n",
            "bs_000\n",
            "bz_000\n",
            "ca_000\n",
            "cb_000\n"
          ]
        },
        {
          "output_type": "stream",
          "name": "stderr",
          "text": [
            "/usr/local/lib/python3.10/dist-packages/scipy/stats/_stats_py.py:4781: ConstantInputWarning: An input array is constant; the correlation coefficient is not defined.\n",
            "  warnings.warn(stats.ConstantInputWarning(msg))\n"
          ]
        },
        {
          "output_type": "stream",
          "name": "stdout",
          "text": [
            "ce_000\n",
            "cf_000\n",
            "cg_000\n",
            "ch_000\n",
            "cl_000\n",
            "cn_006\n",
            "cn_007\n",
            "cn_008\n",
            "cn_009\n",
            "co_000\n",
            "cp_000\n",
            "cs_007\n",
            "cs_008\n",
            "cs_009\n",
            "ct_000\n",
            "cu_000\n",
            "cy_000\n",
            "cz_000\n",
            "da_000\n",
            "db_000\n",
            "de_000\n",
            "df_000\n",
            "dg_000\n",
            "dh_000\n",
            "di_000\n",
            "dj_000\n",
            "dk_000\n",
            "dl_000\n",
            "dm_000\n",
            "dq_000\n",
            "dr_000\n",
            "du_000\n",
            "dv_000\n",
            "dx_000\n",
            "dy_000\n",
            "dz_000\n",
            "ea_000\n",
            "eb_000\n",
            "ee_007\n",
            "ee_009\n",
            "ef_000\n",
            "eg_000\n"
          ]
        }
      ]
    },
    {
      "cell_type": "code",
      "source": [
        "print(df_clear)"
      ],
      "metadata": {
        "id": "wgtQJH-l3BGa",
        "colab": {
          "base_uri": "https://localhost:8080/"
        },
        "outputId": "707d3f2e-80e0-418c-8137-806af719707c"
      },
      "execution_count": 21,
      "outputs": [
        {
          "output_type": "stream",
          "name": "stdout",
          "text": [
            "       class    aa_000  ag_002  ag_003   ag_004     ag_005     ag_006  \\\n",
            "0          0   76698.0     0.0     0.0  37250.0  1432864.0  3664156.0   \n",
            "1          0   33058.0     0.0     0.0  18254.0   653294.0  1720800.0   \n",
            "2          0   41040.0     0.0     0.0   1648.0   370592.0  1883374.0   \n",
            "3          0      12.0     0.0   318.0   2212.0     3232.0     1872.0   \n",
            "4          0   60874.0     0.0     0.0  43752.0  1966618.0  1800340.0   \n",
            "...      ...       ...     ...     ...      ...        ...        ...   \n",
            "59995      0  153002.0     0.0  2564.0  59100.0  1603216.0  6015982.0   \n",
            "59996      0    2286.0     0.0     0.0    104.0    99186.0    36564.0   \n",
            "59997      0     112.0     0.0     0.0     28.0    11592.0    11538.0   \n",
            "59998      0   80292.0     0.0     0.0    330.0   202498.0  3251010.0   \n",
            "59999      0   40222.0     0.0     0.0   1226.0    46284.0  1901140.0   \n",
            "\n",
            "          ag_007     ah_000  al_000  ...    ec_00  ed_000     ee_000  \\\n",
            "0      1007684.0  2551696.0     0.0  ...  2445.80  2712.0   965866.0   \n",
            "1       516724.0  1393352.0     0.0  ...  2211.76  2334.0   664504.0   \n",
            "2       292936.0  1234132.0     0.0  ...  1018.64  1020.0   262032.0   \n",
            "3            0.0     2668.0   642.0  ...     1.08    54.0     5670.0   \n",
            "4       131646.0  1974038.0     0.0  ...  1116.06  1176.0   404740.0   \n",
            "...          ...        ...     ...  ...      ...     ...        ...   \n",
            "59995  1968266.0  4880368.0  1224.0  ...  2912.04  2858.0  1608808.0   \n",
            "59996      128.0    56982.0     0.0  ...    80.40    82.0    13934.0   \n",
            "59997        0.0     8784.0     0.0  ...     2.76   134.0    15876.0   \n",
            "59998  2061456.0  2634394.0     0.0  ...  1659.70  1908.0  1180714.0   \n",
            "59999   855376.0  1235850.0     0.0  ...  1035.22  1256.0   409798.0   \n",
            "\n",
            "          ee_001     ee_002    ee_003     ee_004     ee_005     ee_006  \\\n",
            "0      1706908.0  1240520.0  493384.0   721044.0   469792.0   339156.0   \n",
            "1       824154.0   421400.0  178064.0   293306.0   245416.0   133654.0   \n",
            "2       453378.0   277378.0  159812.0   423992.0   409564.0   320746.0   \n",
            "3         1566.0      240.0      46.0       58.0       44.0       10.0   \n",
            "4       904230.0   622012.0  229790.0   405298.0   347188.0   286954.0   \n",
            "...          ...        ...       ...        ...        ...        ...   \n",
            "59995  1479066.0   998500.0  566884.0  1290398.0  1218244.0  1019768.0   \n",
            "59996    15024.0    10578.0    6760.0    21126.0    68424.0      136.0   \n",
            "59997     2740.0      792.0     386.0      452.0      144.0      146.0   \n",
            "59998  1709450.0   699352.0  222654.0   347378.0   225724.0   194440.0   \n",
            "59999   686416.0   440066.0  183200.0   344546.0   254068.0   225148.0   \n",
            "\n",
            "         ee_008  \n",
            "0       73224.0  \n",
            "1       97576.0  \n",
            "2       95128.0  \n",
            "3           0.0  \n",
            "4      433954.0  \n",
            "...         ...  \n",
            "59995  898642.0  \n",
            "59996       0.0  \n",
            "59997       0.0  \n",
            "59998  802280.0  \n",
            "59999  170384.0  \n",
            "\n",
            "[60000 rows x 83 columns]\n"
          ]
        }
      ]
    },
    {
      "cell_type": "code",
      "source": [
        "y_train = df_clear['class']\n",
        "x_train = df_clear.drop(columns=['class'])"
      ],
      "metadata": {
        "id": "B-zeY__O44D4"
      },
      "execution_count": 22,
      "outputs": []
    },
    {
      "cell_type": "code",
      "source": [
        "print(x_train)"
      ],
      "metadata": {
        "id": "jD_hVi4c_v2t",
        "colab": {
          "base_uri": "https://localhost:8080/"
        },
        "outputId": "1ff9ea61-2d96-4baf-fa19-54a9af1b76ed"
      },
      "execution_count": 23,
      "outputs": [
        {
          "output_type": "stream",
          "name": "stdout",
          "text": [
            "         aa_000  ag_002  ag_003   ag_004     ag_005     ag_006     ag_007  \\\n",
            "0       76698.0     0.0     0.0  37250.0  1432864.0  3664156.0  1007684.0   \n",
            "1       33058.0     0.0     0.0  18254.0   653294.0  1720800.0   516724.0   \n",
            "2       41040.0     0.0     0.0   1648.0   370592.0  1883374.0   292936.0   \n",
            "3          12.0     0.0   318.0   2212.0     3232.0     1872.0        0.0   \n",
            "4       60874.0     0.0     0.0  43752.0  1966618.0  1800340.0   131646.0   \n",
            "...         ...     ...     ...      ...        ...        ...        ...   \n",
            "59995  153002.0     0.0  2564.0  59100.0  1603216.0  6015982.0  1968266.0   \n",
            "59996    2286.0     0.0     0.0    104.0    99186.0    36564.0      128.0   \n",
            "59997     112.0     0.0     0.0     28.0    11592.0    11538.0        0.0   \n",
            "59998   80292.0     0.0     0.0    330.0   202498.0  3251010.0  2061456.0   \n",
            "59999   40222.0     0.0     0.0   1226.0    46284.0  1901140.0   855376.0   \n",
            "\n",
            "          ah_000  al_000    am_0  ...    ec_00  ed_000     ee_000     ee_001  \\\n",
            "0      2551696.0     0.0     0.0  ...  2445.80  2712.0   965866.0  1706908.0   \n",
            "1      1393352.0     0.0     0.0  ...  2211.76  2334.0   664504.0   824154.0   \n",
            "2      1234132.0     0.0     0.0  ...  1018.64  1020.0   262032.0   453378.0   \n",
            "3         2668.0   642.0  3894.0  ...     1.08    54.0     5670.0     1566.0   \n",
            "4      1974038.0     0.0     0.0  ...  1116.06  1176.0   404740.0   904230.0   \n",
            "...          ...     ...     ...  ...      ...     ...        ...        ...   \n",
            "59995  4880368.0  1224.0  2114.0  ...  2912.04  2858.0  1608808.0  1479066.0   \n",
            "59996    56982.0     0.0     0.0  ...    80.40    82.0    13934.0    15024.0   \n",
            "59997     8784.0     0.0     0.0  ...     2.76   134.0    15876.0     2740.0   \n",
            "59998  2634394.0     0.0     0.0  ...  1659.70  1908.0  1180714.0  1709450.0   \n",
            "59999  1235850.0     0.0     0.0  ...  1035.22  1256.0   409798.0   686416.0   \n",
            "\n",
            "          ee_002    ee_003     ee_004     ee_005     ee_006    ee_008  \n",
            "0      1240520.0  493384.0   721044.0   469792.0   339156.0   73224.0  \n",
            "1       421400.0  178064.0   293306.0   245416.0   133654.0   97576.0  \n",
            "2       277378.0  159812.0   423992.0   409564.0   320746.0   95128.0  \n",
            "3          240.0      46.0       58.0       44.0       10.0       0.0  \n",
            "4       622012.0  229790.0   405298.0   347188.0   286954.0  433954.0  \n",
            "...          ...       ...        ...        ...        ...       ...  \n",
            "59995   998500.0  566884.0  1290398.0  1218244.0  1019768.0  898642.0  \n",
            "59996    10578.0    6760.0    21126.0    68424.0      136.0       0.0  \n",
            "59997      792.0     386.0      452.0      144.0      146.0       0.0  \n",
            "59998   699352.0  222654.0   347378.0   225724.0   194440.0  802280.0  \n",
            "59999   440066.0  183200.0   344546.0   254068.0   225148.0  170384.0  \n",
            "\n",
            "[60000 rows x 82 columns]\n"
          ]
        }
      ]
    },
    {
      "cell_type": "code",
      "source": [
        "#Data Normalization\n",
        "print(x_train.isnull().values.any())\n",
        "#for column in x_train.columns:\n",
        "#    x_train[column] = (x_train[column] - x_train[column].min()) / (x_train[column].max() - x_train[column].min())\n",
        "colunas = x_train.columns\n",
        "stan = StandardScaler().fit(x_train)\n",
        "\n",
        "x_train = stan.transform(x_train)\n",
        "x_train = pd.DataFrame(x_train)\n",
        "x_train.columns = colunas\n",
        "\n",
        "\n",
        "print(x_train)\n",
        "print(x_train.isnull().values.any())\n"
      ],
      "metadata": {
        "id": "guHBtYhQ-ARs",
        "colab": {
          "base_uri": "https://localhost:8080/"
        },
        "outputId": "49dd16b1-53f1-453b-dfb0-e16bafcb628a"
      },
      "execution_count": 24,
      "outputs": [
        {
          "output_type": "stream",
          "name": "stdout",
          "text": [
            "False\n",
            "         aa_000    ag_002    ag_003    ag_004    ag_005    ag_006    ag_007  \\\n",
            "0      0.119381 -0.056929 -0.115643 -0.167274  0.103186  0.518102  0.362192   \n",
            "1     -0.180697 -0.056929 -0.115643 -0.175319 -0.136995  0.018291  0.015307   \n",
            "2     -0.125811 -0.056929 -0.115643 -0.182351 -0.224093  0.060103 -0.142809   \n",
            "3     -0.407928 -0.056929 -0.115223 -0.182112 -0.337275 -0.423800 -0.349781   \n",
            "4      0.010572 -0.056929 -0.115643 -0.164521  0.267632  0.038748 -0.256767   \n",
            "...         ...       ...       ...       ...       ...       ...       ...   \n",
            "59995  0.644064 -0.056929 -0.112258 -0.158021  0.155670  1.122967  1.040886   \n",
            "59996 -0.392291 -0.056929 -0.115643 -0.183005 -0.307712 -0.414877 -0.349691   \n",
            "59997 -0.407240 -0.056929 -0.115643 -0.183037 -0.334699 -0.421314 -0.349781   \n",
            "59998  0.144095 -0.056929 -0.115643 -0.182909 -0.275882  0.411845  1.106729   \n",
            "59999 -0.131435 -0.056929 -0.115643 -0.182530 -0.324011  0.064672  0.254580   \n",
            "\n",
            "         ah_000    al_000      am_0  ...     ec_00    ed_000    ee_000  \\\n",
            "0      0.180223 -0.109015 -0.109228  ...  0.370080  0.419294  0.098933   \n",
            "1     -0.097959 -0.109015 -0.109228  ...  0.297591  0.302633 -0.026471   \n",
            "2     -0.136196 -0.109015 -0.109228  ... -0.071956 -0.102901 -0.193951   \n",
            "3     -0.431938 -0.107819 -0.104620  ... -0.387127 -0.401033 -0.300630   \n",
            "4      0.041496 -0.109015 -0.109228  ... -0.041782 -0.054755 -0.134566   \n",
            "...         ...       ...       ...  ...       ...       ...       ...   \n",
            "59995  0.739465 -0.106734 -0.106727  ...  0.514490  0.464353  0.366479   \n",
            "59996 -0.418895 -0.109015 -0.109228  ... -0.362559 -0.392392 -0.297191   \n",
            "59997 -0.430470 -0.109015 -0.109228  ... -0.386606 -0.376343 -0.296383   \n",
            "59998  0.200084 -0.109015 -0.109228  ...  0.126600  0.171159  0.188338   \n",
            "59999 -0.135784 -0.109015 -0.109228  ... -0.066821 -0.030065 -0.132462   \n",
            "\n",
            "         ee_001    ee_002    ee_003    ee_004    ee_005    ee_006    ee_008  \n",
            "0      0.363023  0.693832  0.524393  0.239087  0.070072  0.008264 -0.143103  \n",
            "1      0.017670 -0.018901 -0.059135 -0.129021 -0.131171 -0.184975 -0.088650  \n",
            "2     -0.127386 -0.144217 -0.092912 -0.016553  0.016053 -0.009047 -0.094124  \n",
            "3     -0.304145 -0.385361 -0.388574 -0.381387 -0.351244 -0.310645 -0.306838  \n",
            "4      0.048997  0.155656  0.036588 -0.032641 -0.039892 -0.040823  0.663519  \n",
            "...         ...       ...       ...       ...       ...       ...       ...  \n",
            "59995  0.273886  0.483245  0.660411  0.729068  0.741356  0.648264  1.702599  \n",
            "59996 -0.298880 -0.376366 -0.376149 -0.363256 -0.289914 -0.310526 -0.306838  \n",
            "59997 -0.303686 -0.384881 -0.387945 -0.381048 -0.351154 -0.310517 -0.306838  \n",
            "59998  0.364018  0.222951  0.023382 -0.082487 -0.148832 -0.127816  1.487126  \n",
            "59999 -0.036216 -0.002659 -0.049631 -0.084924 -0.123411 -0.098941  0.074155  \n",
            "\n",
            "[60000 rows x 82 columns]\n",
            "False\n"
          ]
        }
      ]
    },
    {
      "cell_type": "markdown",
      "source": [
        "#Modelos de classificação"
      ],
      "metadata": {
        "id": "glyfTQ-Q4Rig"
      }
    },
    {
      "cell_type": "markdown",
      "source": [
        "##SVM"
      ],
      "metadata": {
        "id": "nRg7_g1IWnKi"
      }
    },
    {
      "cell_type": "code",
      "source": [
        "from sklearn.svm import SVC\n",
        "svm = SVC(random_state = 1)\n",
        "svm.fit(x_train,y_train)\n",
        "print(\"SVM accuracy is {} on Train Dataset\".format(svm.score(x_train,y_train)))"
      ],
      "metadata": {
        "id": "SPYyXCNQ4VpS"
      },
      "execution_count": null,
      "outputs": []
    },
    {
      "cell_type": "code",
      "source": [
        "from sklearn import metrics\n",
        "import seaborn as sns\n",
        "\n",
        "predicted_svm = svm.predict(x_train)\n",
        "\n",
        "confusion_matrix_svm = metrics.confusion_matrix(y_train, predicted_svm)\n",
        "\n",
        "sns.heatmap(confusion_matrix_svm, annot=True,fmt='d', cmap='YlGnBu')\n",
        "plt.ylabel('Actual',fontsize=12)\n",
        "plt.xlabel('Prediction',fontsize=12)\n",
        "plt.title('Confusion Matrix SVM',fontsize=16)\n",
        "plt.show()"
      ],
      "metadata": {
        "id": "XoTuGv_7El8_"
      },
      "execution_count": null,
      "outputs": []
    },
    {
      "cell_type": "markdown",
      "source": [
        "##KNN"
      ],
      "metadata": {
        "id": "_-sqyUfdWrnS"
      }
    },
    {
      "cell_type": "code",
      "source": [
        "from sklearn.neighbors import KNeighborsClassifier\n",
        "knn = KNeighborsClassifier(n_neighbors = 3) #n_neighbors = k\n",
        "knn.fit(x_train,y_train)\n",
        "print(\"k={}NN Accuracy on Train Data: {}\".format(3,knn.score(x_train,y_train)))"
      ],
      "metadata": {
        "id": "zRcJyTUTDxEx"
      },
      "execution_count": null,
      "outputs": []
    },
    {
      "cell_type": "code",
      "source": [
        "predicted_knn = knn.predict(x_train)\n",
        "\n",
        "confusion_matrix_knn = metrics.confusion_matrix(y_train, predicted_knn)\n",
        "\n",
        "sns.heatmap(confusion_matrix_knn, annot=True,fmt='d', cmap='YlGnBu')\n",
        "plt.ylabel('Actual',fontsize=12)\n",
        "plt.xlabel('Prediction',fontsize=12)\n",
        "plt.title('Confusion Matrix',fontsize=16)\n",
        "plt.show()"
      ],
      "metadata": {
        "id": "DEPZqKf3FP_y"
      },
      "execution_count": null,
      "outputs": []
    },
    {
      "cell_type": "markdown",
      "source": [
        "##LNN Model"
      ],
      "metadata": {
        "id": "BdYye7GLWuYZ"
      }
    },
    {
      "cell_type": "code",
      "source": [
        "from tensorflow.keras.layers import Dense, Input\n",
        "from tensorflow.keras import Sequential\n",
        "from tensorflow.keras.activations import sigmoid\n",
        "\n",
        "model = Sequential()\n",
        "\n",
        "model.add(Dense(32, activation='relu', input_shape=(82,),kernel_initializer='random_uniform'))\n",
        "model.add(Dense(64, activation='relu',kernel_initializer='random_uniform'))\n",
        "model.add(Dense(128, activation='relu',kernel_initializer='random_uniform'))\n",
        "model.add(Dense(64, activation='relu',kernel_initializer='random_uniform'))\n",
        "model.add(Dense(32, activation='relu',kernel_initializer='random_uniform'))\n",
        "model.add(Dense(2, activation='softmax',kernel_initializer='random_uniform'))\n",
        "\n",
        "model.compile(optimizer='adam', loss='sparse_categorical_crossentropy', metrics=['accuracy'])\n",
        "model.summary()"
      ],
      "metadata": {
        "id": "8wWMzWdyGAQa",
        "colab": {
          "base_uri": "https://localhost:8080/"
        },
        "outputId": "0e32c933-6f33-4b39-98d2-00de33a6d3b7"
      },
      "execution_count": 25,
      "outputs": [
        {
          "output_type": "stream",
          "name": "stdout",
          "text": [
            "Model: \"sequential\"\n",
            "_________________________________________________________________\n",
            " Layer (type)                Output Shape              Param #   \n",
            "=================================================================\n",
            " dense (Dense)               (None, 32)                2656      \n",
            "                                                                 \n",
            " dense_1 (Dense)             (None, 64)                2112      \n",
            "                                                                 \n",
            " dense_2 (Dense)             (None, 128)               8320      \n",
            "                                                                 \n",
            " dense_3 (Dense)             (None, 64)                8256      \n",
            "                                                                 \n",
            " dense_4 (Dense)             (None, 32)                2080      \n",
            "                                                                 \n",
            " dense_5 (Dense)             (None, 2)                 66        \n",
            "                                                                 \n",
            "=================================================================\n",
            "Total params: 23490 (91.76 KB)\n",
            "Trainable params: 23490 (91.76 KB)\n",
            "Non-trainable params: 0 (0.00 Byte)\n",
            "_________________________________________________________________\n"
          ]
        }
      ]
    },
    {
      "cell_type": "code",
      "source": [
        "hist = model.fit(x_train , y_train , epochs=20)"
      ],
      "metadata": {
        "id": "N3jq1jHJGPii"
      },
      "execution_count": null,
      "outputs": []
    },
    {
      "cell_type": "code",
      "source": [
        "import matplotlib.pyplot as plt\n",
        "plt.plot(hist.history['accuracy'])\n",
        "plt.title('model accuracy')\n",
        "plt.ylabel('accuracy')\n",
        "plt.xlabel('epoch')\n",
        "plt.show()"
      ],
      "metadata": {
        "id": "duX592QkIXgz"
      },
      "execution_count": null,
      "outputs": []
    },
    {
      "cell_type": "code",
      "source": [
        "predicted_lnn = model.predict(x_train)\n",
        "\n",
        "classes = []\n",
        "for i in predicted_lnn:\n",
        "    if max(i) == i[0]:\n",
        "      classes.append(0)\n",
        "    elif max(i) == i[1]:\n",
        "      classes.append(1)\n",
        "\n",
        "confusion_matrix_lnn = metrics.confusion_matrix(y_train, classes)\n",
        "\n",
        "sns.heatmap(confusion_matrix_lnn, annot=True,fmt='d', cmap='YlGnBu')\n",
        "plt.ylabel('Actual',fontsize=12)\n",
        "plt.xlabel('Prediction',fontsize=12)\n",
        "plt.title('Confusion Matrix',fontsize=16)\n",
        "plt.show()"
      ],
      "metadata": {
        "id": "ddnCOFt7IhCC"
      },
      "execution_count": null,
      "outputs": []
    },
    {
      "cell_type": "markdown",
      "source": [
        "##LNN Model with custom Loss Function"
      ],
      "metadata": {
        "id": "l79oWybeWdRb"
      }
    },
    {
      "cell_type": "code",
      "source": [
        "def customLoss(y_true, y_pred):\n",
        "  loss = 0\n",
        "  for i in range(len(y_true)):\n",
        "    loss += y_true[i] *(-math.log(y_pred[i]))+(1-y_pred[i])*(-math.log(1-y_pred[i]))\n",
        "    print(loss)\n",
        "\n",
        "  return loss"
      ],
      "metadata": {
        "id": "8wH5YEvqWYBf"
      },
      "execution_count": 26,
      "outputs": []
    },
    {
      "cell_type": "code",
      "source": [
        "model_custom_loss = Sequential()\n",
        "\n",
        "model_custom_loss.add(Dense(32, activation='relu', input_shape=(82,),kernel_initializer='random_uniform'))\n",
        "model_custom_loss.add(Dense(64, activation='relu',kernel_initializer='random_uniform'))\n",
        "model_custom_loss.add(Dense(128, activation='relu',kernel_initializer='random_uniform'))\n",
        "model_custom_loss.add(Dense(64, activation='relu',kernel_initializer='random_uniform'))\n",
        "model_custom_loss.add(Dense(32, activation='relu',kernel_initializer='random_uniform'))\n",
        "model_custom_loss.add(Dense(1, activation='sigmoid',kernel_initializer='random_uniform'))\n",
        "\n",
        "model_custom_loss.compile(optimizer='adam', loss=customLoss, metrics=['accuracy'])\n",
        "model_custom_loss.summary()"
      ],
      "metadata": {
        "id": "ND3R3JWTT2Ty",
        "colab": {
          "base_uri": "https://localhost:8080/"
        },
        "outputId": "1d5cbdd1-7748-4e3c-849e-5ca21473100f"
      },
      "execution_count": 27,
      "outputs": [
        {
          "output_type": "stream",
          "name": "stdout",
          "text": [
            "Model: \"sequential_1\"\n",
            "_________________________________________________________________\n",
            " Layer (type)                Output Shape              Param #   \n",
            "=================================================================\n",
            " dense_6 (Dense)             (None, 32)                2656      \n",
            "                                                                 \n",
            " dense_7 (Dense)             (None, 64)                2112      \n",
            "                                                                 \n",
            " dense_8 (Dense)             (None, 128)               8320      \n",
            "                                                                 \n",
            " dense_9 (Dense)             (None, 64)                8256      \n",
            "                                                                 \n",
            " dense_10 (Dense)            (None, 32)                2080      \n",
            "                                                                 \n",
            " dense_11 (Dense)            (None, 1)                 33        \n",
            "                                                                 \n",
            "=================================================================\n",
            "Total params: 23457 (91.63 KB)\n",
            "Trainable params: 23457 (91.63 KB)\n",
            "Non-trainable params: 0 (0.00 Byte)\n",
            "_________________________________________________________________\n"
          ]
        }
      ]
    },
    {
      "cell_type": "code",
      "source": [
        "#hist2 = model_custom_loss.fit(x_train , y_train , epochs=20)"
      ],
      "metadata": {
        "id": "qrdOYpFCUEZv"
      },
      "execution_count": null,
      "outputs": []
    },
    {
      "cell_type": "code",
      "source": [
        "pred = model_custom_loss.predict(x_train)"
      ],
      "metadata": {
        "id": "zjiSaIdIVX_8",
        "colab": {
          "base_uri": "https://localhost:8080/"
        },
        "outputId": "7451e158-7bec-4d55-b036-3e9cb8b4460c"
      },
      "execution_count": 28,
      "outputs": [
        {
          "output_type": "stream",
          "name": "stdout",
          "text": [
            "1875/1875 [==============================] - 3s 1ms/step\n"
          ]
        }
      ]
    },
    {
      "cell_type": "code",
      "source": [
        "import keras.backend as K\n",
        "\n",
        "def custom_mse(y_true, y_pred):\n",
        "\n",
        "    # calculating squared difference between target and predicted values\n",
        "    loss = K.square(y_pred - y_true)  # (batch_size, 2)\n",
        "\n",
        "    # multiplying the values with weights along batch dimension\n",
        "    loss = loss * [0.3, 0.7]          # (batch_size, 2)\n",
        "\n",
        "    # summing both loss values along batch dimension\n",
        "    loss = K.sum(loss, axis=1)        # (batch_size,)\n",
        "\n",
        "    return loss"
      ],
      "metadata": {
        "id": "4sxKzqNjcWMW"
      },
      "execution_count": 29,
      "outputs": []
    },
    {
      "cell_type": "code",
      "source": [
        "def customLoss(y_true, y_pred):\n",
        "  loss = 0\n",
        "  for i in range(len(y_true)):\n",
        "    loss += y_true[i] *(-math.log(y_pred[i]))+(1-y_pred[i])*(-math.log(1-y_pred[i]))\n",
        "   # print(type(float(loss[0]/len(y_true))))\n",
        "  return (float(loss[0]/len(y_true)))"
      ],
      "metadata": {
        "id": "hK2bFyotYgPq"
      },
      "execution_count": 30,
      "outputs": []
    },
    {
      "cell_type": "code",
      "source": [
        "custom = custom_mse(y_train,pred)\n",
        "print(custom)"
      ],
      "metadata": {
        "id": "gw3ZW_k2XxdF"
      },
      "execution_count": null,
      "outputs": []
    },
    {
      "cell_type": "code",
      "source": [
        "custom2 = customLoss(y_train,pred)\n",
        "print(custom)"
      ],
      "metadata": {
        "id": "lDd61tO5g6RU"
      },
      "execution_count": null,
      "outputs": []
    },
    {
      "cell_type": "code",
      "source": [
        "predicted_lnn_custom = model_custom_loss.predict(x_train) >0.5\n",
        "\n",
        "print(predicted_lnn_custom)\n",
        "confusion_matrix_lnn_custom = metrics.confusion_matrix(y_train, predicted_lnn_custom)\n",
        "\n",
        "sns.heatmap(confusion_matrix_lnn_custom, annot=True,fmt='d', cmap='YlGnBu')\n",
        "plt.ylabel('Actual',fontsize=12)\n",
        "plt.xlabel('Prediction',fontsize=12)\n",
        "plt.title('Confusion Matrix',fontsize=16)\n",
        "plt.show()"
      ],
      "metadata": {
        "id": "SctzFhGTU-Rc"
      },
      "execution_count": null,
      "outputs": []
    }
  ]
}